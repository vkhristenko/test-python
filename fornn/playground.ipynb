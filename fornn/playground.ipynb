{
 "cells": [
  {
   "cell_type": "markdown",
   "metadata": {},
   "source": [
    "# Using finite differences to solve differential equations\n",
    "\n",
    "## Stationary equations - without time\n",
    "\n",
    "### Setup\n",
    "We are given $u_{xx} + u_{yy} = f(x, y)$ and boundary $\\Omega$ such that $u(\\Omega)$ are provided.\n",
    "\n",
    "Inputs are:\n",
    "- $N_{x}$\n",
    "- $N_{y}$\n",
    "\n",
    "### Problem\n",
    "approximate u(x, y)...\n",
    "\n",
    "### Solution\n",
    "- Select the operator to approximate $\\nabla^{2}$, e.g. $\\Lambda u_{i} = \\frac{u_{i+1} - 2u_{i} + u_{i-1}}{h^{2}}$\n",
    "- Given $N_{x}$ and $N_{y}$ and the boundary, e.g. $[0, 1]$ for both x and y, we basically have a 2D network\n",
    "- For every point of the network (i, j) (not on the boundary) we write down\n",
    "    \n",
    "    $\\Lambda_{i}u_{ij} + \\Lambda_{j}u_{ij} = f(x_{i}, y_{j})$\n",
    "    \n",
    "- For every point on the boundary, equation is basically taking the form of a boundary condition\n",
    "\n",
    "    $u(\\Omega)$ = some values\n",
    "    \n",
    "- We basically gonna get this: $\\textbf{A} u = b$, where matrix $\\textbf{A}$ has dimensions of $N_{p} \\times N_{p}$, where $N_{p}$ is the number of points in the network and $N_{p} = N_{x} \\times N_{y}$\n",
    "- Solve $\\textbf{A} u = b$\n",
    "\n",
    "\n",
    "## Nonstationary equations - with time\n",
    "\n",
    "### Setup\n",
    "We are given \n",
    "- $u_{xx} + u_{yy} = f(x, y)$ - Poisson equation on rectangular boundary: x $\\epsilon$ [a, b], y $\\epsilon$ [c, d]\n",
    "- u is known on the boundary - Dirichlet boundary conditions\n",
    "- Apply the \"determination\" (may be this guy has a different name) method:\n",
    "\n",
    "    $u_{t} = u_{xx} + u_{yy} - f(x, y)$ with the following operator's approximation (just as an example)\n",
    "    \n",
    "    $\\frac{u^{n+1}_{i} - u^{n}_{i}}{\\tau} = \\Lambda u^{n}_{i} - f_{i}$ with $\\Lambda$ defined as above\n",
    "\n",
    "Inputs are:\n",
    "- f(x, y)\n",
    "- u on the boundary\n",
    "- at t=0 $u^{0}(x, y) = C$, we need to select const C\n",
    "- $\\tau$ - step in time\n",
    "- $N_{x}$ - number of steps in x => we do know $h_{1}$\n",
    "- $N_{y}$ - number of steps in y => we do know $h_{2}$\n",
    "- $\\epsilon$\n",
    "\n",
    "### Problem\n",
    "Approximate so that\n",
    "\n",
    "$max_{ij}$ $\\frac{|u^{n+1}_{ij} - u^{n}_{ij}|}{\\tau} < \\epsilon$\n",
    "\n",
    "### Solution\n",
    "we basically need to keep solving $\\textbf{A}u = b$ until we converge on all points of the network...\n",
    "\n",
    "```python\n",
    "# at time t = 0\n",
    "# u is known and equals C everywhere...\n",
    "u_array = ...\n",
    "\n",
    "# for each t >= 1\n",
    "while (!condSatisfied):\n",
    "    A = compute_A(u_array, ...)\n",
    "    b = compute_b(...)\n",
    "    u_new_array = ... # solve (Au = b)\n",
    "    max_diff = max(abs(u_new_array - u_array))\n",
    "    condSatsfied = max_diff/tau < eps\n",
    "```"
   ]
  },
  {
   "cell_type": "code",
   "execution_count": 13,
   "metadata": {},
   "outputs": [],
   "source": [
    "import matplotlib.pyplot as plt\n",
    "import numpy as np"
   ]
  },
  {
   "cell_type": "markdown",
   "metadata": {},
   "source": [
    "## Let's solve the original problem but for a simple 1d case and using a simple approximation defined just above\n",
    "- $u_{xx} = f(x)$\n",
    "- $u(x) = cos(x) sin(x)$\n",
    "- $f(x) = -2sin(2x)$\n",
    "- for x $\\epsilon$ [0, 2$\\pi$]"
   ]
  },
  {
   "cell_type": "markdown",
   "metadata": {},
   "source": [
    "### 1. Plot the result"
   ]
  },
  {
   "cell_type": "code",
   "execution_count": 14,
   "metadata": {},
   "outputs": [
    {
     "data": {
      "image/png": "[encoded data removed]",
      "text/plain": [
       "<Figure size 432x288 with 1 Axes>"
      ]
     },
     "metadata": {
      "needs_background": "light"
     },
     "output_type": "display_data"
    }
   ],
   "source": [
    "t1 = np.arange(0, 2*np.pi, 0.01*np.pi, np.float32)\n",
    "plt.plot(t1, np.sin(t1)*np.cos(t1), 'ro')\n",
    "plt.show()"
   ]
  },
  {
   "cell_type": "markdown",
   "metadata": {},
   "source": [
    "### 2. At time t=0, we have"
   ]
  },
  {
   "cell_type": "markdown",
   "metadata": {},
   "source": [
    "### Notes for selecting initial conditions below\n",
    "- Observed that although solution seems to converge, it is possible to decrease the $\\epsilon$ value so that it starts going nuts (crazy values... for u)\n",
    "- Number of data points affects the $h^{2}$ parameter which if sufficiently small, can dominate in the equation below\n",
    "\n",
    "    $u^{n+1}_{i} = u^{n}_{i} + \\tau \\frac{u^{n}_{i+1} - 2u^{n}_{i} + u^{n}_{i-1}}{h^{2}} - f_{i}\\tau$"
   ]
  },
  {
   "cell_type": "code",
   "execution_count": 34,
   "metadata": {},
   "outputs": [
    {
     "name": "stdout",
     "output_type": "stream",
     "text": [
      "[ 0.  1.  2.  3.  4.  5.  6.  7.  8.  9. 10. 11. 12. 13. 14. 15. 16. 17.\n",
      " 18. 19. 20. 21. 22. 23. 24. 25. 26. 27. 28. 29. 30. 31. 32. 33. 34. 35.\n",
      " 36. 37. 38. 39. 40. 41. 42. 43. 44. 45. 46. 47. 48. 49. 50. 51. 52. 53.\n",
      " 54. 55. 56. 57. 58. 59. 60. 61. 62. 63. 64. 65. 66. 67. 68. 69. 70. 71.\n",
      " 72. 73. 74. 75. 76. 77. 78. 79. 80. 81. 82. 83. 84. 85. 86. 87. 88. 89.\n",
      " 90. 91. 92. 93. 94. 95. 96. 97. 98. 99.]\n",
      "[0.         0.06346652 0.12693304 0.19039955 0.25386607 0.31733259\n",
      " 0.38079911 0.44426563 0.50773215 0.57119866 0.63466518 0.6981317\n",
      " 0.76159822 0.82506474 0.88853126 0.95199777 1.01546429 1.07893081\n",
      " 1.14239733 1.20586385 1.26933037 1.33279688 1.3962634  1.45972992\n",
      " 1.52319644 1.58666296 1.65012947 1.71359599 1.77706251 1.84052903\n",
      " 1.90399555 1.96746207 2.03092858 2.0943951  2.15786162 2.22132814\n",
      " 2.28479466 2.34826118 2.41172769 2.47519421 2.53866073 2.60212725\n",
      " 2.66559377 2.72906028 2.7925268  2.85599332 2.91945984 2.98292636\n",
      " 3.04639288 3.10985939 3.17332591 3.23679243 3.30025895 3.36372547\n",
      " 3.42719199 3.4906585  3.55412502 3.61759154 3.68105806 3.74452458\n",
      " 3.8079911  3.87145761 3.93492413 3.99839065 4.06185717 4.12532369\n",
      " 4.1887902  4.25225672 4.31572324 4.37918976 4.44265628 4.5061228\n",
      " 4.56958931 4.63305583 4.69652235 4.75998887 4.82345539 4.88692191\n",
      " 4.95038842 5.01385494 5.07732146 5.14078798 5.2042545  5.26772102\n",
      " 5.33118753 5.39465405 5.45812057 5.52158709 5.58505361 5.64852012\n",
      " 5.71198664 5.77545316 5.83891968 5.9023862  5.96585272 6.02931923\n",
      " 6.09278575 6.15625227 6.21971879 6.28318531]\n",
      "0.004027998939328379 248.2622302196381\n"
     ]
    }
   ],
   "source": [
    "# helper to fill in the f-values\n",
    "def give_me_func(Nx, delta):\n",
    "    def func(i):\n",
    "        x = i*delta\n",
    "        print(i)\n",
    "        print(x)\n",
    "        return -2*np.sin(2*x)\n",
    "    return func\n",
    "\n",
    "Nx = 100\n",
    "eps = 0.001\n",
    "tau = 0.001\n",
    "x_start = 0\n",
    "x_end = 2*np.pi\n",
    "x_delta = (x_end - x_start) / (Nx - 1)\n",
    "C = 0\n",
    "u_values = np.zeros((Nx))\n",
    "u_values.fill(C)\n",
    "u_gold_func = lambda x: np.cos(x) * np.sin(x)\n",
    "f_values = np.fromfunction(give_me_func(Nx, x_delta), (Nx,), dtype=float)\n",
    "print(x_delta*x_delta, 1 / (x_delta * x_delta))"
   ]
  },
  {
   "cell_type": "markdown",
   "metadata": {},
   "source": [
    "### 3. Define computations we need to perform\n",
    "- computing matrix A\n",
    "- computing vector b\n",
    "- solver for $\\textbf{A}u = b$"
   ]
  },
  {
   "cell_type": "code",
   "execution_count": 35,
   "metadata": {},
   "outputs": [],
   "source": [
    "# TODO: this is a simple case - identity matrix for A...\n",
    "def compute_matrix_A(u_values, f_values, tau, x_delta, Nx):\n",
    "    def func(i, j):\n",
    "        return 1\n",
    "    \n",
    "    return func\n",
    "\n",
    "def compute_vector_b(u_values, u_gold_func, f_values, tau, x_start, x_delta, Nx):\n",
    "    b = np.zeros((Nx))\n",
    "    indices = np.arange(0, Nx, 1, np.int32)\n",
    "    \n",
    "    # on the boundary, return the boundary condition value\n",
    "    b[0] = u_gold_func(x_start)\n",
    "    b[Nx-1] = u_gold_func(x_start + x_delta*(Nx-1))\n",
    "    \n",
    "    # otherwise compute the value\n",
    "    x_delta_2 = x_delta*x_delta\n",
    "    i_slice = indices[1:Nx-1]\n",
    "    b[i_slice] = u_values[i_slice] + (tau/x_delta_2 *\n",
    "        (u_values[i_slice+1] - 2*u_values[i_slice] + u_values[i_slice-1]) - f_values[i_slice]*tau)\n",
    "    return b\n",
    "\n",
    "def compute_max_eps(u_new, u, tau):\n",
    "    return np.amax(np.abs(u_new - u))/tau"
   ]
  },
  {
   "cell_type": "code",
   "execution_count": 46,
   "metadata": {},
   "outputs": [
    {
     "name": "stdout",
     "output_type": "stream",
     "text": [
      "100 0.03667690033903881 0.001\n"
     ]
    }
   ],
   "source": [
    "# main minimization loop. \n",
    "condSatisfied = False\n",
    "iterations = 0\n",
    "max_iterations = 100\n",
    "verbose = False\n",
    "while not condSatisfied and iterations < max_iterations:\n",
    "    b = compute_vector_b(u_values, u_gold_func, f_values, tau, x_start, x_delta, Nx)\n",
    "    u_values_new = b # simple here\n",
    "    max_eps = compute_max_eps(u_values_new, u_values, tau)\n",
    "    if max_eps < eps: \n",
    "        condSatisfied = True\n",
    "    if verbose:\n",
    "        print(u_values)\n",
    "        print(u_values_new)\n",
    "        print(u_values_new - u_values)\n",
    "    u_values = u_values_new\n",
    "    iterations += 1\n",
    "print(iterations, max_eps, eps)"
   ]
  },
  {
   "cell_type": "markdown",
   "metadata": {},
   "source": [
    "### Plot the result"
   ]
  },
  {
   "cell_type": "code",
   "execution_count": 47,
   "metadata": {},
   "outputs": [
    {
     "data": {
      "image/png": "[encoded data removed]",
      "text/plain": [
       "<Figure size 432x288 with 1 Axes>"
      ]
     },
     "metadata": {
      "needs_background": "light"
     },
     "output_type": "display_data"
    }
   ],
   "source": [
    "t1 = np.arange(0, 2*np.pi+0.5*x_delta, x_delta, np.float32)\n",
    "plt.plot(t1, np.sin(t1)*np.cos(t1), 'ro', t1, u_values, 'bo')\n",
    "plt.show()"
   ]
  },
  {
   "cell_type": "code",
   "execution_count": null,
   "metadata": {},
   "outputs": [],
   "source": []
  }
 ],
 "metadata": {
  "kernelspec": {
   "display_name": "Python 3",
   "language": "python",
   "name": "python3"
  },
  "language_info": {
   "codemirror_mode": {
    "name": "ipython",
    "version": 3
   },
   "file_extension": ".py",
   "mimetype": "text/x-python",
   "name": "python",
   "nbconvert_exporter": "python",
   "pygments_lexer": "ipython3",
   "version": "3.7.7"
  }
 },
 "nbformat": 4,
 "nbformat_minor": 2
}
