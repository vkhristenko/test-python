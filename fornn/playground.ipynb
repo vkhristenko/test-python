{
 "cells": [
  {
   "cell_type": "markdown",
   "metadata": {},
   "source": [
    "# Using finite differences to solve differential equations\n",
    "\n",
    "## Stationary equations - without time\n",
    "\n",
    "### Setup\n",
    "We are given $u_{xx} + u_{yy} = f(x, y)$ and boundary $\\Omega$ such that $u(\\Omega)$ are provided.\n",
    "\n",
    "Inputs are:\n",
    "- $N_{x}$\n",
    "- $N_{y}$\n",
    "\n",
    "### Problem\n",
    "approximate u(x, y)...\n",
    "\n",
    "### Solution\n",
    "- Select the operator to approximate $\\nabla^{2}$, e.g. $\\Lambda u_{i} = \\frac{u_{i+1} - 2u_{i} + u_{i-1}}{h^{2}}$\n",
    "- Given $N_{x}$ and $N_{y}$ and the boundary, e.g. $[0, 1]$ for both x and y, we basically have a 2D network\n",
    "- For every point of the network (i, j) (not on the boundary) we write down\n",
    "    \n",
    "    $\\Lambda_{i}u_{ij} + \\Lambda_{j}u_{ij} = f(x_{i}, y_{j})$\n",
    "    \n",
    "- For every point on the boundary, equation is basically taking the form of a boundary condition\n",
    "\n",
    "    $u(\\Omega)$ = some values\n",
    "    \n",
    "- We basically gonna get this: $\\textbf{A} u = b$, where matrix $\\textbf{A}$ has dimensions of $N_{p} \\times N_{p}$, where $N_{p}$ is the number of points in the network and $N_{p} = N_{x} \\times N_{y}$\n",
    "- Solve $\\textbf{A} u = b$\n",
    "\n",
    "\n",
    "## Nonstationary equations - with time\n",
    "\n",
    "### Setup\n",
    "We are given \n",
    "- $u_{xx} + u_{yy} = f(x, y)$ - Poisson equation on rectangular boundary: x $\\epsilon$ [a, b], y $\\epsilon$ [c, d]\n",
    "- u is known on the boundary - Dirichlet boundary conditions\n",
    "- Apply the \"determination\" (may be this guy has a different name) method:\n",
    "\n",
    "    $u_{t} = u_{xx} + u_{yy} - f(x, y)$ with the following operator's approximation (just as an example)\n",
    "    \n",
    "    $\\frac{u^{n+1}_{i} - u^{n}_{i}}{\\tau} = \\Lambda u^{n}_{i} - f_{i}$ with $\\Lambda$ defined as above\n",
    "\n",
    "Inputs are:\n",
    "- f(x, y)\n",
    "- u on the boundary\n",
    "- at t=0 $u^{0}(x, y) = C$, we need to select const C\n",
    "- $\\tau$ - step in time\n",
    "- $N_{x}$ - number of steps in x => we do know $h_{1}$\n",
    "- $N_{y}$ - number of steps in y => we do know $h_{2}$\n",
    "- $\\epsilon$\n",
    "\n",
    "### Problem\n",
    "Approximate so that\n",
    "\n",
    "$max_{ij}$ $\\frac{|u^{n+1}_{ij} - u^{n}_{ij}|}{\\tau} < \\epsilon$\n",
    "\n",
    "### Solution\n",
    "we basically need to keep solving $\\textbf{A}u = b$ until we converge on all points of the network...\n",
    "\n",
    "```python\n",
    "# at time t = 0\n",
    "# u is known and equals C everywhere...\n",
    "u_array = ...\n",
    "\n",
    "# for each t >= 1\n",
    "while (!condSatisfied):\n",
    "    A = compute_A(u_array, ...)\n",
    "    b = compute_b(...)\n",
    "    u_new_array = ... # solve (Au = b)\n",
    "    max_diff = max(abs(u_new_array - u_array))\n",
    "    condSatsfied = max_diff/tau < eps\n",
    "```"
   ]
  },
  {
   "cell_type": "code",
   "execution_count": 124,
   "metadata": {},
   "outputs": [],
   "source": [
    "import matplotlib.pyplot as plt\n",
    "import numpy as np"
   ]
  },
  {
   "cell_type": "markdown",
   "metadata": {},
   "source": [
    "## Let's solve the original problem but for a simple 1d case and using a simple approximation defined just above\n",
    "- $u_{xx} = f(x)$\n",
    "- $u(x) = cos(x) sin(x)$\n",
    "- $f(x) = -2sin(2x)$\n",
    "- for x $\\epsilon$ [0, 2$\\pi$]"
   ]
  },
  {
   "cell_type": "markdown",
   "metadata": {},
   "source": [
    "### 1. Plot the result"
   ]
  },
  {
   "cell_type": "code",
   "execution_count": 20,
   "metadata": {},
   "outputs": [
    {
     "data": {
      "image/png": "[encoded data removed]",
      "text/plain": [
       "<matplotlib.figure.Figure at 0x115f1a350>"
      ]
     },
     "metadata": {},
     "output_type": "display_data"
    }
   ],
   "source": [
    "t1 = np.arange(0, 2*np.pi, 0.01*np.pi, np.float32)\n",
    "plt.plot(t1, np.sin(t1)*np.cos(t1), 'ro')\n",
    "plt.show()"
   ]
  },
  {
   "cell_type": "markdown",
   "metadata": {},
   "source": [
    "### 2. At time t=0, we have"
   ]
  },
  {
   "cell_type": "code",
   "execution_count": 133,
   "metadata": {},
   "outputs": [],
   "source": [
    "# helper to fill in the f-values\n",
    "def give_me_func(Nx, delta):\n",
    "    def func(i):\n",
    "        x = i*delta\n",
    "        return -2*np.sin(2*x)\n",
    "    return func\n",
    "\n",
    "Nx = 10\n",
    "eps = 0.1\n",
    "tau = 0.1\n",
    "x_start = 0\n",
    "x_end = 2*np.pi\n",
    "x_delta = (x_end - x_start) / (Nx - 1)\n",
    "C = 0\n",
    "u_values = np.zeros((Nx))\n",
    "u_values.fill(C)\n",
    "u_gold_func = lambda x: np.cos(x) * np.sin(x)\n",
    "f_values = np.fromfunction(give_me_func(Nx, x_delta), (Nx,), dtype=float)"
   ]
  },
  {
   "cell_type": "code",
   "execution_count": 134,
   "metadata": {},
   "outputs": [
    {
     "name": "stdout",
     "output_type": "stream",
     "text": [
      "[0. 0. 0. 0. 0. 0. 0. 0. 0. 0.]\n",
      "[-0.00000000e+00 -1.96961551e+00 -6.84040287e-01  1.73205081e+00\n",
      "  1.28557522e+00 -1.28557522e+00 -1.73205081e+00  6.84040287e-01\n",
      "  1.96961551e+00  9.79717439e-16]\n"
     ]
    }
   ],
   "source": [
    "print u_values\n",
    "print f_values"
   ]
  },
  {
   "cell_type": "markdown",
   "metadata": {},
   "source": [
    "### 3. Define computations we need to perform\n",
    "- computing matrix A\n",
    "- computing vector b\n",
    "- solver for $\\textbf{A}u = b$"
   ]
  },
  {
   "cell_type": "code",
   "execution_count": 135,
   "metadata": {},
   "outputs": [],
   "source": [
    "# TODO: this is a simple case - identity matrix for A...\n",
    "def compute_matrix_A(u_values, f_values, tau, x_delta, Nx):\n",
    "    def func(i, j):\n",
    "        return 1\n",
    "    \n",
    "    return func\n",
    "\n",
    "def compute_vector_b(u_values, u_gold_func, f_values, tau, x_start, x_delta, Nx):\n",
    "    b = np.zeros((Nx))\n",
    "    indices = np.arange(0, Nx, 1, np.int32)\n",
    "    \n",
    "    # on the boundary, return the boundary condition value\n",
    "    b[0] = u_gold_func(x_start)\n",
    "    b[Nx-1] = u_gold_func(x_start + x_delta*(Nx-1))\n",
    "    \n",
    "    # otherwise compute the value\n",
    "    x_delta_2 = x_delta*x_delta\n",
    "    i_slice = indices[1:Nx-1]\n",
    "    b[i_slice] = u_values[i_slice] + (tau/x_delta_2 *\n",
    "        (u_values[i_slice+1] - 2*u_values[i_slice] + u_values[i_slice-1]) - f_values[i_slice]*tau)\n",
    "    return b\n",
    "\n",
    "def compute_max_eps(u_new, u, tau):\n",
    "    return np.amax(np.abs(u_new - u))/tau"
   ]
  },
  {
   "cell_type": "code",
   "execution_count": 136,
   "metadata": {},
   "outputs": [
    {
     "name": "stdout",
     "output_type": "stream",
     "text": [
      "[0. 0. 0. 0. 0. 0. 0. 0. 0. 0.]\n",
      "[ 0.00000000e+00  1.96961551e-01  6.84040287e-02 -1.73205081e-01\n",
      " -1.28557522e-01  1.28557522e-01  1.73205081e-01 -6.84040287e-02\n",
      " -1.96961551e-01 -2.44929360e-16]\n",
      "1 1.9696155060244163 0.1\n",
      "[ 0.00000000e+00  1.96961551e-01  6.84040287e-02 -1.73205081e-01\n",
      " -1.28557522e-01  1.28557522e-01  1.73205081e-01 -6.84040287e-02\n",
      " -1.96961551e-01 -2.44929360e-16]\n",
      "[ 0.00000000e+00  3.27134596e-01  1.13612653e-01 -2.87677336e-01\n",
      " -2.13521943e-01  2.13521943e-01  2.87677336e-01 -1.13612653e-01\n",
      " -3.27134596e-01 -2.44929360e-16]\n",
      "2 1.301730457034777 0.1\n",
      "[ 0.00000000e+00  3.27134596e-01  1.13612653e-01 -2.87677336e-01\n",
      " -2.13521943e-01  2.13521943e-01  2.87677336e-01 -1.13612653e-01\n",
      " -3.27134596e-01 -2.44929360e-16]\n",
      "[ 0.00000000e+00  4.13166727e-01  1.43491298e-01 -3.63332722e-01\n",
      " -2.69675428e-01  2.69675428e-01  3.63332722e-01 -1.43491298e-01\n",
      " -4.13166727e-01 -2.44929360e-16]\n",
      "3 0.8603213051425701 0.1\n",
      "[ 0.00000000e+00  4.13166727e-01  1.43491298e-01 -3.63332722e-01\n",
      " -2.69675428e-01  2.69675428e-01  3.63332722e-01 -1.43491298e-01\n",
      " -4.13166727e-01 -2.44929360e-16]\n",
      "[ 0.00000000e+00  4.70025867e-01  1.63238271e-01 -4.13333811e-01\n",
      " -3.06787597e-01  3.06787597e-01  4.13333811e-01 -1.63238271e-01\n",
      " -4.70025867e-01 -2.44929360e-16]\n",
      "4 0.5685914039133838 0.1\n",
      "[ 0.00000000e+00  4.70025867e-01  1.63238271e-01 -4.13333811e-01\n",
      " -3.06787597e-01  3.06787597e-01  4.13333811e-01 -1.63238271e-01\n",
      " -4.70025867e-01 -2.44929360e-16]\n",
      "[ 0.00000000e+00  5.07604407e-01  1.76289161e-01 -4.46379824e-01\n",
      " -3.31315247e-01  3.31315247e-01  4.46379824e-01 -1.76289161e-01\n",
      " -5.07604407e-01 -2.44929360e-16]\n",
      "5 0.37578539863152294 0.1\n",
      "[ 0.00000000e+00  5.07604407e-01  1.76289161e-01 -4.46379824e-01\n",
      " -3.31315247e-01  3.31315247e-01  4.46379824e-01 -1.76289161e-01\n",
      " -5.07604407e-01 -2.44929360e-16]\n",
      "[ 0.00000000e+00  5.32440285e-01  1.84914570e-01 -4.68220128e-01\n",
      " -3.47525714e-01  3.47525714e-01  4.68220128e-01 -1.84914570e-01\n",
      " -5.32440285e-01 -2.44929360e-16]\n",
      "6 0.24835877723920818 0.1\n",
      "[ 0.00000000e+00  5.32440285e-01  1.84914570e-01 -4.68220128e-01\n",
      " -3.47525714e-01  3.47525714e-01  4.68220128e-01 -1.84914570e-01\n",
      " -5.32440285e-01 -2.44929360e-16]\n",
      "[ 0.00000000e+00  5.48854462e-01  1.90615154e-01 -4.82654514e-01\n",
      " -3.58239308e-01  3.58239308e-01  4.82654514e-01 -1.90615154e-01\n",
      " -5.48854462e-01 -2.44929360e-16]\n",
      "7 0.16414177468411228 0.1\n",
      "[ 0.00000000e+00  5.48854462e-01  1.90615154e-01 -4.82654514e-01\n",
      " -3.58239308e-01  3.58239308e-01  4.82654514e-01 -1.90615154e-01\n",
      " -5.48854462e-01 -2.44929360e-16]\n",
      "[ 0.00000000e+00  5.59702689e-01  1.94382704e-01 -4.92194284e-01\n",
      " -3.65319985e-01  3.65319985e-01  4.92194284e-01 -1.94382704e-01\n",
      " -5.59702689e-01 -2.44929360e-16]\n",
      "8 0.10848226302265895 0.1\n",
      "[ 0.00000000e+00  5.59702689e-01  1.94382704e-01 -4.92194284e-01\n",
      " -3.65319985e-01  3.65319985e-01  4.92194284e-01 -1.94382704e-01\n",
      " -5.59702689e-01 -2.44929360e-16]\n",
      "[ 0.00000000e+00  5.66872345e-01  1.96872699e-01 -4.98499174e-01\n",
      " -3.69999646e-01  3.69999646e-01  4.98499174e-01 -1.96872699e-01\n",
      " -5.66872345e-01 -2.44929360e-16]\n",
      "9 0.07169656483345221 0.1\n"
     ]
    }
   ],
   "source": [
    "# main minimization loop. \n",
    "condSatisfied = False\n",
    "iterations = 0\n",
    "max_iterations = 100\n",
    "while not condSatisfied and iterations < max_iterations:\n",
    "    b = compute_vector_b(u_values, u_gold_func, f_values, tau, x_start, x_delta, Nx)\n",
    "    u_values_new = b # simple here\n",
    "    max_eps = compute_max_eps(u_values_new, u_values, tau)\n",
    "    print u_values\n",
    "    print u_values_new\n",
    "    if max_eps < eps: \n",
    "        condSatisfied = True\n",
    "    u_values = u_values_new\n",
    "    iterations += 1\n",
    "    print iterations, max_eps, eps"
   ]
  },
  {
   "cell_type": "markdown",
   "metadata": {},
   "source": [
    "### Plot the result"
   ]
  },
  {
   "cell_type": "code",
   "execution_count": 137,
   "metadata": {},
   "outputs": [
    {
     "data": {
      "image/png": "[encoded data removed]",
      "text/plain": [
       "<matplotlib.figure.Figure at 0x116261f50>"
      ]
     },
     "metadata": {},
     "output_type": "display_data"
    }
   ],
   "source": [
    "t1 = np.arange(0, 2*np.pi+0.5*x_delta, x_delta, np.float32)\n",
    "plt.plot(t1, np.sin(t1)*np.cos(t1), 'ro', t1, u_values, 'bo')\n",
    "plt.show()"
   ]
  },
  {
   "cell_type": "code",
   "execution_count": 138,
   "metadata": {},
   "outputs": [
    {
     "name": "stdout",
     "output_type": "stream",
     "text": [
      "[ 0.0000000e+00  4.9240384e-01  1.7101011e-01 -4.3301275e-01\n",
      " -3.2139388e-01  3.2139364e-01  4.3301263e-01 -1.7101003e-01\n",
      " -4.9240389e-01 -3.0199161e-07]\n",
      "[ 0.00000000e+00  5.66872345e-01  1.96872699e-01 -4.98499174e-01\n",
      " -3.69999646e-01  3.69999646e-01  4.98499174e-01 -1.96872699e-01\n",
      " -5.66872345e-01 -2.44929360e-16]\n"
     ]
    }
   ],
   "source": [
    "print np.sin(t1)*np.cos(t1)\n",
    "print u_values"
   ]
  }
 ],
 "metadata": {
  "kernelspec": {
   "display_name": "Python 3",
   "language": "python",
   "name": "python3"
  },
  "language_info": {
   "codemirror_mode": {
    "name": "ipython",
    "version": 2
   },
   "file_extension": ".py",
   "mimetype": "text/x-python",
   "name": "python",
   "nbconvert_exporter": "python",
   "pygments_lexer": "ipython2",
   "version": "2.7.14"
  }
 },
 "nbformat": 4,
 "nbformat_minor": 2
}
