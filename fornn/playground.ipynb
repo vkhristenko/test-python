{
 "cells": [
  {
   "cell_type": "markdown",
   "metadata": {},
   "source": [
    "# Using finite differences to solve differential equations\n",
    "\n",
    "## Stationary equations - without time\n",
    "\n",
    "### Setup\n",
    "We are given $u_{xx} + u_{yy} = f(x, y)$ and boundary $\\Omega$ such that $u(\\Omega)$ are provided.\n",
    "\n",
    "Inputs are:\n",
    "- $N_{x}$\n",
    "- $N_{y}$\n",
    "\n",
    "### Problem\n",
    "approximate u(x, y)...\n",
    "\n",
    "### Solution\n",
    "- Select the operator to approximate $\\nabla^{2}$, e.g. $\\Lambda u_{i} = \\frac{u_{i+1} - 2u_{i} + u_{i-1}}{h^{2}}$\n",
    "- Given $N_{x}$ and $N_{y}$ and the boundary, e.g. $[0, 1]$ for both x and y, we basically have a 2D network\n",
    "- For every point of the network (i, j) (not on the boundary) we write down\n",
    "    \n",
    "    $\\Lambda_{i}u_{ij} + \\Lambda_{j}u_{ij} = f(x_{i}, y_{j})$\n",
    "    \n",
    "- For every point on the boundary, equation is basically taking the form of a boundary condition\n",
    "\n",
    "    $u(\\Omega)$ = some values\n",
    "    \n",
    "- We basically gonna get this: $\\textbf{A} u = b$, where matrix $\\textbf{A}$ has dimensions of $N_{p} \\times N_{p}$, where $N_{p}$ is the number of points in the network and $N_{p} = N_{x} \\times N_{y}$\n",
    "- Solve $\\textbf{A} u = b$\n",
    "\n",
    "\n",
    "## Nonstationary equations - with time\n",
    "\n",
    "### Setup\n",
    "We are given \n",
    "- $u_{xx} + u_{yy} = f(x, y)$ - Poisson equation on rectangular boundary: x $\\epsilon$ [a, b], y $\\epsilon$ [c, d]\n",
    "- u is known on the boundary - Dirichlet boundary conditions\n",
    "- Apply the \"determination\" (may be this guy has a different name) method:\n",
    "\n",
    "    $u_{t} = u_{xx} + u_{yy} - f(x, y)$ with the following operator's approximation (just as an example)\n",
    "    \n",
    "    $\\frac{u^{n+1}_{i} - u^{n}_{i}}{\\tau} = \\Lambda u^{n}_{i} - f_{i}$ with $\\Lambda$ defined as above\n",
    "\n",
    "Inputs are:\n",
    "- f(x, y)\n",
    "- u on the boundary\n",
    "- at t=0 $u^{0}(x, y) = C$, we need to select const C\n",
    "- $\\tau$ - step in time\n",
    "- $N_{x}$ - number of steps in x => we do know $h_{1}$\n",
    "- $N_{y}$ - number of steps in y => we do know $h_{2}$\n",
    "- $\\epsilon$\n",
    "\n",
    "### Problem\n",
    "Approximate so that\n",
    "\n",
    "$max_{ij}$ $\\frac{|u^{n+1}_{ij} - u^{n}_{ij}|}{\\tau} < \\epsilon$\n",
    "\n",
    "### Solution\n",
    "we basically need to keep solving $\\textbf{A}u = b$ until we converge on all points of the network...\n",
    "\n",
    "```python\n",
    "# at time t = 0\n",
    "# u is known and equals C everywhere...\n",
    "u_array = ...\n",
    "\n",
    "# for each t >= 1\n",
    "while (!condSatisfied):\n",
    "    A = compute_A(u_array, ...)\n",
    "    b = compute_b(...)\n",
    "    u_new_array = ... # solve (Au = b)\n",
    "    max_diff = max(abs(u_new_array - u_array))\n",
    "    condSatsfied = max_diff/tau < eps\n",
    "```"
   ]
  },
  {
   "cell_type": "code",
   "execution_count": 1,
   "metadata": {},
   "outputs": [],
   "source": [
    "import matplotlib.pyplot as plt\n",
    "import numpy as np"
   ]
  },
  {
   "cell_type": "markdown",
   "metadata": {},
   "source": [
    "## Let's solve the original problem but for a simple 1d case and using a simple approximation defined just above\n",
    "- $u_{xx} = f(x)$\n",
    "- $u(x) = cos(x) sin(x)$\n",
    "- $f(x) = -2sin(2x)$\n",
    "- for x $\\epsilon$ [0, 2$\\pi$]"
   ]
  },
  {
   "cell_type": "markdown",
   "metadata": {},
   "source": [
    "### 1. Plot the result"
   ]
  },
  {
   "cell_type": "code",
   "execution_count": 2,
   "metadata": {},
   "outputs": [
    {
     "data": {
      "image/png": "[encoded data removed]",
      "text/plain": [
       "<matplotlib.figure.Figure at 0x10dce5c10>"
      ]
     },
     "metadata": {},
     "output_type": "display_data"
    }
   ],
   "source": [
    "t1 = np.arange(0, 2*np.pi, 0.01*np.pi, np.float32)\n",
    "plt.plot(t1, np.sin(t1)*np.cos(t1), 'ro')\n",
    "plt.show()"
   ]
  },
  {
   "cell_type": "markdown",
   "metadata": {},
   "source": [
    "### 2. At time t=0, we have"
   ]
  },
  {
   "cell_type": "code",
   "execution_count": 3,
   "metadata": {},
   "outputs": [],
   "source": [
    "# helper to fill in the f-values\n",
    "def give_me_func(Nx, delta):\n",
    "    def func(i):\n",
    "        x = i*delta\n",
    "        return -2*np.sin(2*x)\n",
    "    return func\n",
    "\n",
    "Nx = 100\n",
    "eps = 0.1\n",
    "tau = 0.1\n",
    "x_start = 0\n",
    "x_end = 2*np.pi\n",
    "x_delta = (x_end - x_start) / (Nx - 1)\n",
    "C = 0\n",
    "u_values = np.zeros((Nx))\n",
    "u_values.fill(C)\n",
    "u_gold_func = lambda x: np.cos(x) * np.sin(x)\n",
    "f_values = np.fromfunction(give_me_func(Nx, x_delta), (Nx,), dtype=float)"
   ]
  },
  {
   "cell_type": "code",
   "execution_count": 4,
   "metadata": {},
   "outputs": [
    {
     "name": "stdout",
     "output_type": "stream",
     "text": [
      "[0. 0. 0. 0. 0. 0. 0. 0. 0. 0. 0. 0. 0. 0. 0. 0. 0. 0. 0. 0. 0. 0. 0. 0.\n",
      " 0. 0. 0. 0. 0. 0. 0. 0. 0. 0. 0. 0. 0. 0. 0. 0. 0. 0. 0. 0. 0. 0. 0. 0.\n",
      " 0. 0. 0. 0. 0. 0. 0. 0. 0. 0. 0. 0. 0. 0. 0. 0. 0. 0. 0. 0. 0. 0. 0. 0.\n",
      " 0. 0. 0. 0. 0. 0. 0. 0. 0. 0. 0. 0. 0. 0. 0. 0. 0. 0. 0. 0. 0. 0. 0. 0.\n",
      " 0. 0. 0. 0.]\n",
      "[-0.00000000e+00 -2.53184907e-01 -5.02295974e-01 -7.43324911e-01\n",
      " -9.72393472e-01 -1.18581586e+00 -1.38015802e+00 -1.55229293e+00\n",
      " -1.69945086e+00 -1.81926399e+00 -1.90980448e+00 -1.96961551e+00\n",
      " -1.99773468e+00 -1.99370955e+00 -1.95760489e+00 -1.89000164e+00\n",
      " -1.79198755e+00 -1.66513971e+00 -1.51149915e+00 -1.33353800e+00\n",
      " -1.13411973e+00 -9.16453043e-01 -6.84040287e-01 -4.40621066e-01\n",
      " -1.90112087e-01  6.34558670e-02  3.16002792e-01  5.63465114e-01\n",
      "  8.01861071e-01  1.02735478e+00  1.23631797e+00  1.42538834e+00\n",
      "  1.59152368e+00  1.73205081e+00  1.84470859e+00  1.92768432e+00\n",
      "  1.97964288e+00  1.99974826e+00  1.98767693e+00  1.94362314e+00\n",
      "  1.86829572e+00  1.76290673e+00  1.62915190e+00  1.46918342e+00\n",
      "  1.28557522e+00  1.08128163e+00  8.59589824e-01  6.24066891e-01\n",
      "  3.78502489e-01  1.26847839e-01 -1.26847839e-01 -3.78502489e-01\n",
      " -6.24066891e-01 -8.59589824e-01 -1.08128163e+00 -1.28557522e+00\n",
      " -1.46918342e+00 -1.62915190e+00 -1.76290673e+00 -1.86829572e+00\n",
      " -1.94362314e+00 -1.98767693e+00 -1.99974826e+00 -1.97964288e+00\n",
      " -1.92768432e+00 -1.84470859e+00 -1.73205081e+00 -1.59152368e+00\n",
      " -1.42538834e+00 -1.23631797e+00 -1.02735478e+00 -8.01861071e-01\n",
      " -5.63465114e-01 -3.16002792e-01 -6.34558670e-02  1.90112087e-01\n",
      "  4.40621066e-01  6.84040287e-01  9.16453043e-01  1.13411973e+00\n",
      "  1.33353800e+00  1.51149915e+00  1.66513971e+00  1.79198755e+00\n",
      "  1.89000164e+00  1.95760489e+00  1.99370955e+00  1.99773468e+00\n",
      "  1.96961551e+00  1.90980448e+00  1.81926399e+00  1.69945086e+00\n",
      "  1.55229293e+00  1.38015802e+00  1.18581586e+00  9.72393472e-01\n",
      "  7.43324911e-01  5.02295974e-01  2.53184907e-01  9.79717439e-16]\n"
     ]
    }
   ],
   "source": [
    "print u_values\n",
    "print f_values"
   ]
  },
  {
   "cell_type": "markdown",
   "metadata": {},
   "source": [
    "### 3. Define computations we need to perform\n",
    "- computing matrix A\n",
    "- computing vector b\n",
    "- solver for $\\textbf{A}u = b$"
   ]
  },
  {
   "cell_type": "code",
   "execution_count": 5,
   "metadata": {},
   "outputs": [],
   "source": [
    "# TODO: this is a simple case - identity matrix for A...\n",
    "def compute_matrix_A(u_values, f_values, tau, x_delta, Nx):\n",
    "    def func(i, j):\n",
    "        return 1\n",
    "    \n",
    "    return func\n",
    "\n",
    "def compute_vector_b(u_values, u_gold_func, f_values, tau, x_start, x_delta, Nx):\n",
    "    b = np.zeros((Nx))\n",
    "    indices = np.arange(0, Nx, 1, np.int32)\n",
    "    \n",
    "    # on the boundary, return the boundary condition value\n",
    "    b[0] = u_gold_func(x_start)\n",
    "    b[Nx-1] = u_gold_func(x_start + x_delta*(Nx-1))\n",
    "    \n",
    "    # otherwise compute the value\n",
    "    x_delta_2 = x_delta*x_delta\n",
    "    i_slice = indices[1:Nx-1]\n",
    "    b[i_slice] = u_values[i_slice] + (tau/x_delta_2 *\n",
    "        (u_values[i_slice+1] - 2*u_values[i_slice] + u_values[i_slice-1]) - f_values[i_slice]*tau)\n",
    "    return b\n",
    "\n",
    "def compute_max_eps(u_new, u, tau):\n",
    "    return np.amax(np.abs(u_new - u))/tau"
   ]
  },
  {
   "cell_type": "code",
   "execution_count": 6,
   "metadata": {},
   "outputs": [
    {
     "name": "stdout",
     "output_type": "stream",
     "text": [
      "1 1.9997482553477501 0.1\n",
      "2 1.200922374413143 0.1\n",
      "3 0.7211980535606566 0.1\n",
      "4 0.4331059554750427 0.1\n",
      "5 0.26009606349367775 0.1\n",
      "6 0.15619705551737362 0.1\n",
      "7 0.09387381323601396 0.1\n"
     ]
    }
   ],
   "source": [
    "# main minimization loop. \n",
    "condSatisfied = False\n",
    "iterations = 0\n",
    "max_iterations = 100\n",
    "while not condSatisfied and iterations < max_iterations:\n",
    "    b = compute_vector_b(u_values, u_gold_func, f_values, tau, x_start, x_delta, Nx)\n",
    "    u_values_new = b # simple here\n",
    "    max_eps = compute_max_eps(u_values_new, u_values, tau)\n",
    "    if max_eps < eps: \n",
    "        condSatisfied = True\n",
    "    u_values = u_values_new\n",
    "    iterations += 1\n",
    "    print iterations, max_eps, eps"
   ]
  },
  {
   "cell_type": "markdown",
   "metadata": {},
   "source": [
    "### Plot the result"
   ]
  },
  {
   "cell_type": "code",
   "execution_count": 7,
   "metadata": {},
   "outputs": [
    {
     "data": {
      "image/png": "[encoded data removed]",
      "text/plain": [
       "<matplotlib.figure.Figure at 0x10dce5990>"
      ]
     },
     "metadata": {},
     "output_type": "display_data"
    }
   ],
   "source": [
    "t1 = np.arange(0, 2*np.pi+0.5*x_delta, x_delta, np.float32)\n",
    "plt.plot(t1, np.sin(t1)*np.cos(t1), 'ro', t1, u_values, 'bo')\n",
    "plt.show()"
   ]
  },
  {
   "cell_type": "code",
   "execution_count": 8,
   "metadata": {},
   "outputs": [
    {
     "name": "stdout",
     "output_type": "stream",
     "text": [
      "[ 0.00000000e+00  6.32962286e-02  1.25573993e-01  1.85831234e-01\n",
      "  2.43098363e-01  2.96453953e-01  3.45039517e-01  3.88073236e-01\n",
      "  4.24862742e-01  4.54816014e-01  4.77451146e-01  4.92403835e-01\n",
      "  4.99433666e-01  4.98427361e-01  4.89401221e-01  4.72500414e-01\n",
      "  4.47996855e-01  4.16284889e-01  3.77874762e-01  3.33384514e-01\n",
      "  2.83529907e-01  2.29113221e-01  1.71010107e-01  1.10155284e-01\n",
      "  4.75280024e-02 -1.58640184e-02 -7.90007785e-02 -1.40866280e-01\n",
      " -2.00465277e-01 -2.56838739e-01 -3.09079468e-01 -3.56347084e-01\n",
      " -3.97880942e-01 -4.33012754e-01 -4.61177170e-01 -4.81921107e-01\n",
      " -4.94910747e-01 -4.99937087e-01 -4.96919215e-01 -4.85905796e-01\n",
      " -4.67073888e-01 -4.40726697e-01 -4.07287925e-01 -3.67295742e-01\n",
      " -3.21393877e-01 -2.70320475e-01 -2.14897469e-01 -1.56016707e-01\n",
      " -9.46255848e-02 -3.17118876e-02  3.17120627e-02  9.46257487e-02\n",
      "  1.56016871e-01  2.14897409e-01  2.70320415e-01  3.21393818e-01\n",
      "  3.67295891e-01  4.07288015e-01  4.40726727e-01  4.67074007e-01\n",
      "  4.85905766e-01  4.96919215e-01  4.99937087e-01  4.94910717e-01\n",
      "  4.81921077e-01  4.61177081e-01  4.33012635e-01  3.97880852e-01\n",
      "  3.56346965e-01  3.09079319e-01  2.56838500e-01  2.00465024e-01\n",
      "  1.40865982e-01  7.90008456e-02  1.58640817e-02 -4.75279391e-02\n",
      " -1.10155217e-01 -1.71010032e-01 -2.29113281e-01 -2.83529967e-01\n",
      " -3.33384573e-01 -3.77874851e-01 -4.16285008e-01 -4.47996974e-01\n",
      " -4.72500503e-01 -4.89401281e-01 -4.98427421e-01 -4.99433666e-01\n",
      " -4.92403895e-01 -4.77451175e-01 -4.54816014e-01 -4.24862742e-01\n",
      " -3.88073236e-01 -3.45039517e-01 -2.96453923e-01 -2.43098319e-01\n",
      " -1.85831159e-01 -1.25573874e-01 -6.32960796e-02  1.74845553e-07]\n",
      "[ 0.00000000e+00  6.15948857e-02  1.22202607e-01  1.80836363e-01\n",
      "  2.36570896e-01  2.88488102e-01  3.35770616e-01  3.77650419e-01\n",
      "  4.13445793e-01  4.42601890e-01  4.64621719e-01  4.79179613e-01\n",
      "  4.86012849e-01  4.85043105e-01  4.76249167e-01  4.59810913e-01\n",
      "  4.35960807e-01  4.05101372e-01  3.67725680e-01  3.24426785e-01\n",
      "  2.75913363e-01  2.22961929e-01  1.66408630e-01  1.07206292e-01\n",
      "  4.62412860e-02 -1.54303227e-02 -7.68833606e-02 -1.37078390e-01\n",
      " -1.95083704e-01 -2.49935993e-01 -3.00777449e-01 -3.46777489e-01\n",
      " -3.87184904e-01 -4.21390790e-01 -4.48777661e-01 -4.68984639e-01\n",
      " -4.81607197e-01 -4.86514099e-01 -4.83566134e-01 -4.72851192e-01\n",
      " -4.54536388e-01 -4.28867724e-01 -3.96375928e-01 -3.57392731e-01\n",
      " -3.12798461e-01 -2.63025486e-01 -2.09144391e-01 -1.51824467e-01\n",
      " -9.20664032e-02 -3.08901688e-02  3.08963225e-02  9.20458215e-02\n",
      "  1.51862997e-01  2.09088145e-01  2.63093647e-01  3.12727214e-01\n",
      "  3.57458612e-01  3.96321626e-01  4.28907220e-01  4.54511766e-01\n",
      "  4.72863190e-01  4.83563895e-01  4.86508483e-01  4.81620185e-01\n",
      "  4.68964636e-01  4.48802455e-01  4.21364791e-01  3.87210664e-01\n",
      "  3.46750118e-01  3.00807600e-01  2.49904905e-01  1.95114820e-01\n",
      "  1.37045003e-01  7.69191582e-02  1.53970059e-02 -4.62136401e-02\n",
      " -1.07231615e-01 -1.66383142e-01 -2.22981059e-01 -2.75910509e-01\n",
      " -3.24412204e-01 -3.67748426e-01 -4.05080433e-01 -4.35976693e-01\n",
      " -4.59798757e-01 -4.76257911e-01 -4.85039686e-01 -4.86009665e-01\n",
      " -4.79188167e-01 -4.64609730e-01 -4.42617570e-01 -4.13425022e-01\n",
      " -3.77673424e-01 -3.35754977e-01 -2.88486458e-01 -2.36590564e-01\n",
      " -1.80808279e-01 -1.22227081e-01 -6.15814249e-02 -2.44929360e-16]\n"
     ]
    }
   ],
   "source": [
    "print np.sin(t1)*np.cos(t1)\n",
    "print u_values"
   ]
  },
  {
   "cell_type": "code",
   "execution_count": null,
   "metadata": {},
   "outputs": [],
   "source": []
  }
 ],
 "metadata": {
  "kernelspec": {
   "display_name": "Python 3",
   "language": "python",
   "name": "python3"
  },
  "language_info": {
   "codemirror_mode": {
    "name": "ipython",
    "version": 2
   },
   "file_extension": ".py",
   "mimetype": "text/x-python",
   "name": "python",
   "nbconvert_exporter": "python",
   "pygments_lexer": "ipython2",
   "version": "2.7.14"
  }
 },
 "nbformat": 4,
 "nbformat_minor": 2
}
